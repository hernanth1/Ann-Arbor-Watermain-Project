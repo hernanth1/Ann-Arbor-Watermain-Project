{
 "cells": [
  {
   "cell_type": "markdown",
   "id": "06dd09be",
   "metadata": {},
   "source": [
    "# Analysis plan for RQ2"
   ]
  },
  {
   "attachments": {},
   "cell_type": "markdown",
   "id": "0cfd7c17",
   "metadata": {},
   "source": [
    "Using the same merged dataset as the previous RQ, I will instead focus\n",
    "on the ‘install date’ and ‘work order start date’ columns. Next, I will filter the dataset to highlight\n",
    "work orders related to water main replacements. Using pandas I will create a new column to\n",
    "compute the time difference between the installation date and the replacement date. Last, I will\n",
    "separate the results by pipe material and calculate the average lifespan of each material. The\n",
    "material with the longest average lifespan will be the evidence I need to answer the RQ."
   ]
  },
  {
   "cell_type": "markdown",
   "id": "a9f83042",
   "metadata": {},
   "source": [
    "# Analysis plan for RQ3"
   ]
  },
  {
   "attachments": {},
   "cell_type": "markdown",
   "id": "a8cd931f",
   "metadata": {},
   "source": [
    "To answer my last research question, I will use the same dataset to assess\n",
    "the average maintenance cost associated with pipe material. To accomplish this, I will need to\n",
    "explore the relationship between the ‘length’ and ‘total cost’ columns. For each work order, I\n",
    "will calculate the estimated maintenance cost per foot of pipe by dividing the total cost by the\n",
    "length of the water main. Using this information, I will create a boxplot to display the\n",
    "maintenance cost per foot of pipe material from every work order. The outcome of this analysis\n",
    "will reveal which pipes have the highest and lowest maintenance expenses."
   ]
  }
 ],
 "metadata": {
  "kernelspec": {
   "display_name": "base",
   "language": "python",
   "name": "python3"
  },
  "language_info": {
   "codemirror_mode": {
    "name": "ipython",
    "version": 3
   },
   "file_extension": ".py",
   "mimetype": "text/x-python",
   "name": "python",
   "nbconvert_exporter": "python",
   "pygments_lexer": "ipython3",
   "version": "3.11.4 (main, Jul  5 2023, 09:00:44) [Clang 14.0.6 ]"
  },
  "vscode": {
   "interpreter": {
    "hash": "e0074302058a013f589444f875a5488f01ef0f50e4437d56a8002550daa07829"
   }
  }
 },
 "nbformat": 4,
 "nbformat_minor": 5
}

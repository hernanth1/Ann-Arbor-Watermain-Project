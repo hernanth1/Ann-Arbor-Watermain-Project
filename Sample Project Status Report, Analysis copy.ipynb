{
 "cells": [
  {
   "cell_type": "markdown",
   "id": "6724bacb",
   "metadata": {},
   "source": [
    "## Amanda Rudolph  | Project Status Report | Analysis Update"
   ]
  },
  {
   "cell_type": "code",
   "execution_count": 45,
   "id": "bbd3af34",
   "metadata": {
    "collapsed": true
   },
   "outputs": [
    {
     "name": "stdout",
     "output_type": "stream",
     "text": [
      "Requirement already satisfied: sodapy in /Users/amandarudolph/opt/anaconda3/lib/python3.9/site-packages (2.2.0)\n",
      "Requirement already satisfied: requests>=2.28.1 in /Users/amandarudolph/opt/anaconda3/lib/python3.9/site-packages (from sodapy) (2.28.1)\n",
      "Requirement already satisfied: charset-normalizer<3,>=2 in /Users/amandarudolph/opt/anaconda3/lib/python3.9/site-packages (from requests>=2.28.1->sodapy) (2.0.4)\n",
      "Requirement already satisfied: idna<4,>=2.5 in /Users/amandarudolph/opt/anaconda3/lib/python3.9/site-packages (from requests>=2.28.1->sodapy) (3.3)\n",
      "Requirement already satisfied: urllib3<1.27,>=1.21.1 in /Users/amandarudolph/opt/anaconda3/lib/python3.9/site-packages (from requests>=2.28.1->sodapy) (1.26.11)\n",
      "Requirement already satisfied: certifi>=2017.4.17 in /Users/amandarudolph/opt/anaconda3/lib/python3.9/site-packages (from requests>=2.28.1->sodapy) (2022.6.15)\n",
      "\n",
      "\u001b[1m[\u001b[0m\u001b[34;49mnotice\u001b[0m\u001b[1;39;49m]\u001b[0m\u001b[39;49m A new release of pip is available: \u001b[0m\u001b[31;49m23.2.1\u001b[0m\u001b[39;49m -> \u001b[0m\u001b[32;49m23.3.1\u001b[0m\n",
      "\u001b[1m[\u001b[0m\u001b[34;49mnotice\u001b[0m\u001b[1;39;49m]\u001b[0m\u001b[39;49m To update, run: \u001b[0m\u001b[32;49mpip install --upgrade pip\u001b[0m\n",
      "Note: you may need to restart the kernel to use updated packages.\n"
     ]
    }
   ],
   "source": [
    "pip install sodapy\n",
    "\n",
    "import pandas as pd\n",
    "import matplotlib.pyplot as plt\n",
    "import statsmodels.api as sm\n",
    "import statsmodels.formula.api as smf\n",
    "import seaborn as sns"
   ]
  },
  {
   "cell_type": "markdown",
   "id": "1ea83ff0",
   "metadata": {},
   "source": [
    "## RQ #1: *Are there systematic differences in food inspection ratings by restaurant-types, especially those in neighborhoods with a higher proportion of non-white residents?*"
   ]
  },
  {
   "cell_type": "markdown",
   "id": "78545b01",
   "metadata": {},
   "source": [
    "### Prepping Inspections Data"
   ]
  },
  {
   "cell_type": "markdown",
   "id": "53e73019",
   "metadata": {},
   "source": [
    "Data Cleaning:"
   ]
  },
  {
   "cell_type": "code",
   "execution_count": 47,
   "id": "cc1182a1",
   "metadata": {
    "collapsed": true
   },
   "outputs": [
    {
     "name": "stderr",
     "output_type": "stream",
     "text": [
      "WARNING:root:Requests made without an app_token will be subject to strict throttling limits.\n"
     ]
    }
   ],
   "source": [
    "from sodapy import Socrata\n",
    "client = Socrata(\"data.cityofchicago.org\", None)\n",
    "results = client.get(\"4ijn-s7e5\", limit=40000)\n",
    "inspections_data = pd.DataFrame.from_records(results)"
   ]
  },
  {
   "cell_type": "code",
   "execution_count": 49,
   "id": "fe831c6a",
   "metadata": {
    "collapsed": true
   },
   "outputs": [
    {
     "name": "stdout",
     "output_type": "stream",
     "text": [
      "<class 'pandas.core.frame.DataFrame'>\n",
      "RangeIndex: 40000 entries, 0 to 39999\n",
      "Data columns (total 22 columns):\n",
      " #   Column                       Non-Null Count  Dtype \n",
      "---  ------                       --------------  ----- \n",
      " 0   inspection_id                40000 non-null  object\n",
      " 1   dba_name                     40000 non-null  object\n",
      " 2   aka_name                     39897 non-null  object\n",
      " 3   license_                     40000 non-null  object\n",
      " 4   facility_type                39764 non-null  object\n",
      " 5   risk                         39990 non-null  object\n",
      " 6   address                      40000 non-null  object\n",
      " 7   city                         39947 non-null  object\n",
      " 8   state                        39983 non-null  object\n",
      " 9   zip                          39967 non-null  object\n",
      " 10  inspection_date              40000 non-null  object\n",
      " 11  inspection_type              40000 non-null  object\n",
      " 12  results                      40000 non-null  object\n",
      " 13  violations                   27771 non-null  object\n",
      " 14  latitude                     39850 non-null  object\n",
      " 15  longitude                    39850 non-null  object\n",
      " 16  location                     39850 non-null  object\n",
      " 17  :@computed_region_awaf_s7ux  39386 non-null  object\n",
      " 18  :@computed_region_6mkv_f3dw  39850 non-null  object\n",
      " 19  :@computed_region_vrxf_vc4k  39386 non-null  object\n",
      " 20  :@computed_region_bdys_3d7i  39844 non-null  object\n",
      " 21  :@computed_region_43wa_7qmu  39386 non-null  object\n",
      "dtypes: object(22)\n",
      "memory usage: 6.7+ MB\n"
     ]
    }
   ],
   "source": [
    "#Getting information about the dataframes structure and determining which columns to drop\n",
    "#I am dropping columns I don't need for analysis, such as the columns that give me exact locations I only need the zipcode\n",
    "inspections_data.info()\n",
    "inspections_data = inspections_data.drop(columns=['inspection_id','license_', 'address', 'aka_name', 'city', 'state', 'latitude', 'longitude', 'location', ':@computed_region_awaf_s7ux', ':@computed_region_6mkv_f3dw', ':@computed_region_vrxf_vc4k', ':@computed_region_bdys_3d7i', ':@computed_region_43wa_7qmu'])"
   ]
  },
  {
   "cell_type": "code",
   "execution_count": 50,
   "id": "8f5cd00a",
   "metadata": {},
   "outputs": [
    {
     "data": {
      "text/html": [
       "<div>\n",
       "<style scoped>\n",
       "    .dataframe tbody tr th:only-of-type {\n",
       "        vertical-align: middle;\n",
       "    }\n",
       "\n",
       "    .dataframe tbody tr th {\n",
       "        vertical-align: top;\n",
       "    }\n",
       "\n",
       "    .dataframe thead th {\n",
       "        text-align: right;\n",
       "    }\n",
       "</style>\n",
       "<table border=\"1\" class=\"dataframe\">\n",
       "  <thead>\n",
       "    <tr style=\"text-align: right;\">\n",
       "      <th></th>\n",
       "      <th>dba_name</th>\n",
       "      <th>facility_type</th>\n",
       "      <th>risk</th>\n",
       "      <th>zip</th>\n",
       "      <th>inspection_date</th>\n",
       "      <th>inspection_type</th>\n",
       "      <th>results</th>\n",
       "      <th>violations</th>\n",
       "    </tr>\n",
       "  </thead>\n",
       "  <tbody>\n",
       "    <tr>\n",
       "      <th>0</th>\n",
       "      <td>JUNIOR CHEFS KITCHEN</td>\n",
       "      <td>School</td>\n",
       "      <td>Risk 1 (High)</td>\n",
       "      <td>60614</td>\n",
       "      <td>2023-11-14T00:00:00.000</td>\n",
       "      <td>License</td>\n",
       "      <td>Fail</td>\n",
       "      <td>39. CONTAMINATION PREVENTED DURING FOOD PREPAR...</td>\n",
       "    </tr>\n",
       "    <tr>\n",
       "      <th>1</th>\n",
       "      <td>THOREK MEMORIAL HOSPITAL</td>\n",
       "      <td>Restaurant</td>\n",
       "      <td>Risk 1 (High)</td>\n",
       "      <td>60613</td>\n",
       "      <td>2023-11-14T00:00:00.000</td>\n",
       "      <td>Canvass</td>\n",
       "      <td>Pass w/ Conditions</td>\n",
       "      <td>16. FOOD-CONTACT SURFACES: CLEANED &amp; SANITIZED...</td>\n",
       "    </tr>\n",
       "    <tr>\n",
       "      <th>2</th>\n",
       "      <td>BARRACO'S PIZZA AND THE VINEYARD BANQUETS</td>\n",
       "      <td>Restaurant</td>\n",
       "      <td>Risk 1 (High)</td>\n",
       "      <td>60643</td>\n",
       "      <td>2023-11-13T00:00:00.000</td>\n",
       "      <td>Complaint</td>\n",
       "      <td>Pass</td>\n",
       "      <td>38. INSECTS, RODENTS, &amp; ANIMALS NOT PRESENT - ...</td>\n",
       "    </tr>\n",
       "    <tr>\n",
       "      <th>3</th>\n",
       "      <td>PALETERIAS MONARCA, CORP.</td>\n",
       "      <td>Restaurant</td>\n",
       "      <td>Risk 1 (High)</td>\n",
       "      <td>60626</td>\n",
       "      <td>2023-11-13T00:00:00.000</td>\n",
       "      <td>Canvass</td>\n",
       "      <td>Out of Business</td>\n",
       "      <td>NaN</td>\n",
       "    </tr>\n",
       "    <tr>\n",
       "      <th>4</th>\n",
       "      <td>YOUR BUDZ</td>\n",
       "      <td>Restaurant</td>\n",
       "      <td>Risk 2 (Medium)</td>\n",
       "      <td>60613</td>\n",
       "      <td>2023-11-13T00:00:00.000</td>\n",
       "      <td>License</td>\n",
       "      <td>Fail</td>\n",
       "      <td>3. MANAGEMENT, FOOD EMPLOYEE AND CONDITIONAL E...</td>\n",
       "    </tr>\n",
       "  </tbody>\n",
       "</table>\n",
       "</div>"
      ],
      "text/plain": [
       "                                    dba_name facility_type             risk  \\\n",
       "0                       JUNIOR CHEFS KITCHEN        School    Risk 1 (High)   \n",
       "1                   THOREK MEMORIAL HOSPITAL    Restaurant    Risk 1 (High)   \n",
       "2  BARRACO'S PIZZA AND THE VINEYARD BANQUETS    Restaurant    Risk 1 (High)   \n",
       "3                  PALETERIAS MONARCA, CORP.    Restaurant    Risk 1 (High)   \n",
       "4                                  YOUR BUDZ    Restaurant  Risk 2 (Medium)   \n",
       "\n",
       "     zip          inspection_date inspection_type             results  \\\n",
       "0  60614  2023-11-14T00:00:00.000         License                Fail   \n",
       "1  60613  2023-11-14T00:00:00.000         Canvass  Pass w/ Conditions   \n",
       "2  60643  2023-11-13T00:00:00.000       Complaint                Pass   \n",
       "3  60626  2023-11-13T00:00:00.000         Canvass     Out of Business   \n",
       "4  60613  2023-11-13T00:00:00.000         License                Fail   \n",
       "\n",
       "                                          violations  \n",
       "0  39. CONTAMINATION PREVENTED DURING FOOD PREPAR...  \n",
       "1  16. FOOD-CONTACT SURFACES: CLEANED & SANITIZED...  \n",
       "2  38. INSECTS, RODENTS, & ANIMALS NOT PRESENT - ...  \n",
       "3                                                NaN  \n",
       "4  3. MANAGEMENT, FOOD EMPLOYEE AND CONDITIONAL E...  "
      ]
     },
     "execution_count": 50,
     "metadata": {},
     "output_type": "execute_result"
    }
   ],
   "source": [
    "inspections_data.head()\n",
    "#Cleaned up version of inspections data with unnecessary columns dropped"
   ]
  },
  {
   "cell_type": "code",
   "execution_count": 51,
   "id": "8bb37b44",
   "metadata": {},
   "outputs": [],
   "source": [
    "#The .info() function also told me what datatypes I am working with\n",
    "#Converting the datatypes of zipcode (I need integer values)\n",
    "#Converting the datatype of \"inspection date\". Datetime object will be more helpful\n",
    "inspections_data = inspections_data.dropna(subset='zip')\n",
    "inspections_data['zip'] = inspections_data['zip'].astype(int)\n",
    "inspections_data['inspection_date'] = pd.to_datetime(inspections_data['inspection_date'])\n"
   ]
  },
  {
   "cell_type": "code",
   "execution_count": 52,
   "id": "34431a0d",
   "metadata": {
    "scrolled": true
   },
   "outputs": [
    {
     "name": "stdout",
     "output_type": "stream",
     "text": [
      "<class 'pandas.core.frame.DataFrame'>\n",
      "Int64Index: 39967 entries, 0 to 39999\n",
      "Data columns (total 8 columns):\n",
      " #   Column           Non-Null Count  Dtype         \n",
      "---  ------           --------------  -----         \n",
      " 0   dba_name         39967 non-null  object        \n",
      " 1   facility_type    39735 non-null  object        \n",
      " 2   risk             39958 non-null  object        \n",
      " 3   zip              39967 non-null  int64         \n",
      " 4   inspection_date  39967 non-null  datetime64[ns]\n",
      " 5   inspection_type  39967 non-null  object        \n",
      " 6   results          39967 non-null  object        \n",
      " 7   violations       27751 non-null  object        \n",
      "dtypes: datetime64[ns](1), int64(1), object(6)\n",
      "memory usage: 2.7+ MB\n"
     ]
    }
   ],
   "source": [
    "inspections_data.info()\n",
    "#Checking that I now have zip codes that are integers\n",
    "#Checking that I have inspection dates that are datetime values"
   ]
  },
  {
   "cell_type": "markdown",
   "id": "226c4876",
   "metadata": {},
   "source": [
    "##### My research question only focuses on restaurants. I want to look into the values within the \"facility type\" column to see how they correspond with my RQ."
   ]
  },
  {
   "cell_type": "code",
   "execution_count": 53,
   "id": "380000fe",
   "metadata": {},
   "outputs": [
    {
     "data": {
      "text/plain": [
       "Restaurant                                27771\n",
       "Grocery Store                              3927\n",
       "School                                     2747\n",
       "Children's Services Facility               1336\n",
       "Daycare Above and Under 2 Years             658\n",
       "                                          ...  \n",
       "CULINARY CLASS ROOMS                          1\n",
       "DELI/BAKERY                                   1\n",
       "Airport Lounge                                1\n",
       "BREWPUB                                       1\n",
       "A-Not-For-Profit Chef Training Program        1\n",
       "Name: facility_type, Length: 178, dtype: int64"
      ]
     },
     "execution_count": 53,
     "metadata": {},
     "output_type": "execute_result"
    }
   ],
   "source": [
    "inspections_data['facility_type'].value_counts()\n",
    "#Values associated with \"facility types\" and how many of them there are"
   ]
  },
  {
   "cell_type": "markdown",
   "id": "a8e95332",
   "metadata": {},
   "source": [
    "##### I am interested in looking at the food inspection ratings of restaurants, but not of other facilities. I am going to limit the dataset to only show restaurants. The highest number of entries in the inspections dataset are for restaurnts, so I know i still have a lot of data to analyze for my RQ."
   ]
  },
  {
   "cell_type": "code",
   "execution_count": 54,
   "id": "701f8c6d",
   "metadata": {},
   "outputs": [],
   "source": [
    "inspections_data_restaurants = inspections_data[inspections_data['facility_type']=='Restaurant']\n",
    "inspections_data_restaurants = inspections_data_restaurants.drop(columns='facility_type')\n",
    "#Limiting dataset to only restaurants\n",
    "#Dropping column for facility type as I now know every facility is a restaurant"
   ]
  },
  {
   "cell_type": "markdown",
   "id": "6f860755",
   "metadata": {},
   "source": [
    "##### The \"facility type\" column also shows me that I have knowledge of which facilities are restuarnts, but not what *type* of restaurants each is or what kind of food is being served. I need to modify my research question since I do not have this information available.\n"
   ]
  },
  {
   "cell_type": "markdown",
   "id": "06deea98",
   "metadata": {},
   "source": [
    "\n",
    "## Modified RQ1: *Are there systematic differences in food inspection ratings in neighborhoods with a higher proportion of non-white residents?*\n"
   ]
  },
  {
   "cell_type": "markdown",
   "id": "77161ac5",
   "metadata": {},
   "source": [
    "##### My RQ focuses on food inspection ratings, or the \"results\" of food inspections. I want to look at the values of this column to understand the different outcomes."
   ]
  },
  {
   "cell_type": "code",
   "execution_count": 55,
   "id": "425a1d9e",
   "metadata": {},
   "outputs": [],
   "source": [
    "#Observing the number of times each different result came up \n",
    "#7 different results, but I am only interested in inspections that had pass or failing outcomes.\n",
    "inspections_data_restaurants['results'].value_counts()\n",
    "\n",
    "#Dropping entries that are not necessary for analysis\n",
    "inspections_data_restaurants = inspections_data_restaurants[inspections_data_restaurants['results']!='No Entry']\n",
    "inspections_data_restaurants = inspections_data_restaurants[inspections_data_restaurants['results']!='Out of Business']\n",
    "inspections_data_restaurants = inspections_data_restaurants[inspections_data_restaurants['results']!='Not Ready']\n",
    "inspections_data_restaurants = inspections_data_restaurants[inspections_data_restaurants['results']!='Business Not Located']"
   ]
  },
  {
   "cell_type": "markdown",
   "id": "dab4bfa3",
   "metadata": {},
   "source": [
    "##### What does the distribution pattern of these results look like? I am curious if the majority of restaurants pass or fail. This will give me a better idea what my next steps will entail."
   ]
  },
  {
   "cell_type": "code",
   "execution_count": 56,
   "id": "bae8f625",
   "metadata": {},
   "outputs": [
    {
     "data": {
      "text/plain": [
       "Pass                  55.531349\n",
       "Fail                  24.774520\n",
       "Pass w/ Conditions    19.694131\n",
       "Name: results, dtype: float64"
      ]
     },
     "execution_count": 56,
     "metadata": {},
     "output_type": "execute_result"
    }
   ],
   "source": [
    "#Instead of having the number of inspections that have each result, I am finding percentages\n",
    "#I see that the majority of restaurants pass inspections (55%),24.7% fail, and 19.69 pass w/ conditions\n",
    "inspections_data_restaurants['results'].value_counts() * 100 / len(inspections_data_restaurants)\n"
   ]
  },
  {
   "cell_type": "markdown",
   "id": "96d6e8cf",
   "metadata": {},
   "source": [
    "### Prepping the demographics data"
   ]
  },
  {
   "cell_type": "markdown",
   "id": "a036e34e",
   "metadata": {},
   "source": [
    "Data Cleaning:"
   ]
  },
  {
   "cell_type": "code",
   "execution_count": 57,
   "id": "6f5bad61",
   "metadata": {},
   "outputs": [],
   "source": [
    "demographic_data = pd.read_csv('https://data.cityofchicago.org/resource/85cm-7uqa.csv')"
   ]
  },
  {
   "cell_type": "code",
   "execution_count": 59,
   "id": "cf7ae62c",
   "metadata": {},
   "outputs": [],
   "source": [
    "#By looking at the dataframe, it is clear that there are several columns that will not be helpful to my analysis\n",
    "#I only need the zipcode for location, and ethnic/racial group. I am not interested in age groups. \n",
    "demographic_data = demographic_data.drop(columns=['geography_type', 'record_id', 'population_female', 'population_male', 'population_age_0_17', 'population_age_18_29', 'population_age_30_39', 'population_age_40_49', 'population_age_50_59', 'population_age_60_69', 'population_age_70_79', 'population_age_80', 'population_age_0_4', 'population_age_5_11', 'population_age_12_17', 'population_age_5_', 'population_age_18_', 'population_age_65_'])"
   ]
  },
  {
   "cell_type": "code",
   "execution_count": 60,
   "id": "7e7e2df7",
   "metadata": {},
   "outputs": [],
   "source": [
    "#The dataset also contains demographic information from outside of Chicago\n",
    "#Limiting dataframe to only show Chicago\n",
    "demographic_data = demographic_data[demographic_data['geography']!='Chicago']\n",
    "\n",
    "#Dataset has data from several years\n",
    "#Limiting dataframe to only show data from 2021\n",
    "demographic_data2021 = demographic_data[demographic_data['year']==2021]\n",
    "\n",
    "#Since I now know my dataset only includes data from 2021, the year column is not necessary\n",
    "#Dropping 'year' column\n",
    "demographic_data2021 = demographic_data2021.drop(columns='year')"
   ]
  },
  {
   "cell_type": "code",
   "execution_count": 61,
   "id": "6b28b38a",
   "metadata": {},
   "outputs": [
    {
     "data": {
      "text/html": [
       "<div>\n",
       "<style scoped>\n",
       "    .dataframe tbody tr th:only-of-type {\n",
       "        vertical-align: middle;\n",
       "    }\n",
       "\n",
       "    .dataframe tbody tr th {\n",
       "        vertical-align: top;\n",
       "    }\n",
       "\n",
       "    .dataframe thead th {\n",
       "        text-align: right;\n",
       "    }\n",
       "</style>\n",
       "<table border=\"1\" class=\"dataframe\">\n",
       "  <thead>\n",
       "    <tr style=\"text-align: right;\">\n",
       "      <th></th>\n",
       "      <th>geography</th>\n",
       "      <th>population_total</th>\n",
       "      <th>population_latinx</th>\n",
       "      <th>population_asian_non_latinx</th>\n",
       "      <th>population_black_non_latinx</th>\n",
       "      <th>population_white_non_latinx</th>\n",
       "      <th>population_other_race_non</th>\n",
       "    </tr>\n",
       "  </thead>\n",
       "  <tbody>\n",
       "    <tr>\n",
       "      <th>176</th>\n",
       "      <td>60601</td>\n",
       "      <td>14804</td>\n",
       "      <td>1234</td>\n",
       "      <td>3827.0</td>\n",
       "      <td>908.0</td>\n",
       "      <td>8124</td>\n",
       "      <td>711.0</td>\n",
       "    </tr>\n",
       "    <tr>\n",
       "      <th>177</th>\n",
       "      <td>60602</td>\n",
       "      <td>1142</td>\n",
       "      <td>311</td>\n",
       "      <td>101.0</td>\n",
       "      <td>38.0</td>\n",
       "      <td>537</td>\n",
       "      <td>155.0</td>\n",
       "    </tr>\n",
       "    <tr>\n",
       "      <th>178</th>\n",
       "      <td>60603</td>\n",
       "      <td>1275</td>\n",
       "      <td>78</td>\n",
       "      <td>397.0</td>\n",
       "      <td>71.0</td>\n",
       "      <td>723</td>\n",
       "      <td>6.0</td>\n",
       "    </tr>\n",
       "    <tr>\n",
       "      <th>179</th>\n",
       "      <td>60604</td>\n",
       "      <td>687</td>\n",
       "      <td>30</td>\n",
       "      <td>70.0</td>\n",
       "      <td>72.0</td>\n",
       "      <td>515</td>\n",
       "      <td>0.0</td>\n",
       "    </tr>\n",
       "    <tr>\n",
       "      <th>180</th>\n",
       "      <td>60605</td>\n",
       "      <td>32077</td>\n",
       "      <td>2841</td>\n",
       "      <td>4942.0</td>\n",
       "      <td>4571.0</td>\n",
       "      <td>18296</td>\n",
       "      <td>1427.0</td>\n",
       "    </tr>\n",
       "  </tbody>\n",
       "</table>\n",
       "</div>"
      ],
      "text/plain": [
       "    geography  population_total  population_latinx  \\\n",
       "176     60601             14804               1234   \n",
       "177     60602              1142                311   \n",
       "178     60603              1275                 78   \n",
       "179     60604               687                 30   \n",
       "180     60605             32077               2841   \n",
       "\n",
       "     population_asian_non_latinx  population_black_non_latinx  \\\n",
       "176                       3827.0                        908.0   \n",
       "177                        101.0                         38.0   \n",
       "178                        397.0                         71.0   \n",
       "179                         70.0                         72.0   \n",
       "180                       4942.0                       4571.0   \n",
       "\n",
       "     population_white_non_latinx  population_other_race_non  \n",
       "176                         8124                      711.0  \n",
       "177                          537                      155.0  \n",
       "178                          723                        6.0  \n",
       "179                          515                        0.0  \n",
       "180                        18296                     1427.0  "
      ]
     },
     "execution_count": 61,
     "metadata": {},
     "output_type": "execute_result"
    }
   ],
   "source": [
    "demographic_data2021.head()\n",
    "#Demographic data from 2021"
   ]
  },
  {
   "cell_type": "code",
   "execution_count": 62,
   "id": "cbdfdc1c",
   "metadata": {},
   "outputs": [],
   "source": [
    "#When looking at the demographic_data2021 df, I noticed that there was a zipcode with 0 population\n",
    "#The zipcode is '60666' and is solely for O'Hare Airpoty. No one lives here.\n",
    "#Dropping this record from the dataset\n",
    "demographic_data2021 = demographic_data2021[demographic_data2021['geography']!='60666']\n",
    "inspections_data_restaurants = inspections_data_restaurants[inspections_data_restaurants['zip']!='60666']"
   ]
  },
  {
   "cell_type": "code",
   "execution_count": 63,
   "id": "f649ed8b",
   "metadata": {},
   "outputs": [
    {
     "name": "stdout",
     "output_type": "stream",
     "text": [
      "<class 'pandas.core.frame.DataFrame'>\n",
      "Int64Index: 58 entries, 176 to 234\n",
      "Data columns (total 7 columns):\n",
      " #   Column                       Non-Null Count  Dtype  \n",
      "---  ------                       --------------  -----  \n",
      " 0   geography                    58 non-null     object \n",
      " 1   population_total             58 non-null     int64  \n",
      " 2   population_latinx            58 non-null     int64  \n",
      " 3   population_asian_non_latinx  58 non-null     float64\n",
      " 4   population_black_non_latinx  58 non-null     float64\n",
      " 5   population_white_non_latinx  58 non-null     int64  \n",
      " 6   population_other_race_non    58 non-null     float64\n",
      "dtypes: float64(3), int64(3), object(1)\n",
      "memory usage: 3.6+ KB\n"
     ]
    }
   ],
   "source": [
    "#Getting information about the dataframes structure\n",
    "#Making sure values are in types that will be useful for analysis\n",
    "demographic_data2021.info()\n",
    "\n",
    "#I want the zipcodes ('geography column') and populations to be integers for future manipluation\n",
    "#Changing data type\n",
    "demographic_data2021['geography'] = demographic_data2021['geography'].astype(int)\n",
    "demographic_data2021['population_asian_non_latinx'] = demographic_data2021['population_asian_non_latinx'].astype(int)\n",
    "demographic_data2021['population_black_non_latinx'] = demographic_data2021['population_black_non_latinx'].astype(int)\n",
    "demographic_data2021['population_other_race_non'] = demographic_data2021['population_other_race_non'].astype(int)"
   ]
  },
  {
   "cell_type": "markdown",
   "id": "d247695f",
   "metadata": {},
   "source": [
    "##### Now that I have the demographic_data2021 cleaned up, I want to continue to make the data more useful. Determining the percentage of people that fit into the demographic groups is my first step."
   ]
  },
  {
   "cell_type": "code",
   "execution_count": 64,
   "id": "432b3d18",
   "metadata": {},
   "outputs": [],
   "source": [
    "#Determining percentage of people that fit into these categories out of the total population\n",
    "\n",
    "demographic_data2021['population_latinx'] = demographic_data2021['population_latinx']*100/demographic_data2021['population_total']\n",
    "demographic_data2021['population_asian_non_latinx'] = demographic_data2021['population_asian_non_latinx']*100/demographic_data2021['population_total']\n",
    "demographic_data2021['population_black_non_latinx'] = demographic_data2021['population_black_non_latinx']*100/demographic_data2021['population_total']\n",
    "demographic_data2021['population_white_non_latinx'] = demographic_data2021['population_white_non_latinx']*100/demographic_data2021['population_total']\n",
    "demographic_data2021['population_other_race_non'] = demographic_data2021['population_other_race_non']*100/demographic_data2021['population_total']"
   ]
  },
  {
   "cell_type": "code",
   "execution_count": 65,
   "id": "e3cdbc58",
   "metadata": {},
   "outputs": [
    {
     "data": {
      "text/html": [
       "<div>\n",
       "<style scoped>\n",
       "    .dataframe tbody tr th:only-of-type {\n",
       "        vertical-align: middle;\n",
       "    }\n",
       "\n",
       "    .dataframe tbody tr th {\n",
       "        vertical-align: top;\n",
       "    }\n",
       "\n",
       "    .dataframe thead th {\n",
       "        text-align: right;\n",
       "    }\n",
       "</style>\n",
       "<table border=\"1\" class=\"dataframe\">\n",
       "  <thead>\n",
       "    <tr style=\"text-align: right;\">\n",
       "      <th></th>\n",
       "      <th>geography</th>\n",
       "      <th>population_total</th>\n",
       "      <th>population_latinx</th>\n",
       "      <th>population_asian_non_latinx</th>\n",
       "      <th>population_black_non_latinx</th>\n",
       "      <th>population_white_non_latinx</th>\n",
       "      <th>population_other_race_non</th>\n",
       "    </tr>\n",
       "  </thead>\n",
       "  <tbody>\n",
       "    <tr>\n",
       "      <th>176</th>\n",
       "      <td>60601</td>\n",
       "      <td>14804</td>\n",
       "      <td>8.335585</td>\n",
       "      <td>25.851121</td>\n",
       "      <td>6.133477</td>\n",
       "      <td>54.877060</td>\n",
       "      <td>4.802756</td>\n",
       "    </tr>\n",
       "    <tr>\n",
       "      <th>177</th>\n",
       "      <td>60602</td>\n",
       "      <td>1142</td>\n",
       "      <td>27.232925</td>\n",
       "      <td>8.844133</td>\n",
       "      <td>3.327496</td>\n",
       "      <td>47.022767</td>\n",
       "      <td>13.572680</td>\n",
       "    </tr>\n",
       "    <tr>\n",
       "      <th>178</th>\n",
       "      <td>60603</td>\n",
       "      <td>1275</td>\n",
       "      <td>6.117647</td>\n",
       "      <td>31.137255</td>\n",
       "      <td>5.568627</td>\n",
       "      <td>56.705882</td>\n",
       "      <td>0.470588</td>\n",
       "    </tr>\n",
       "    <tr>\n",
       "      <th>179</th>\n",
       "      <td>60604</td>\n",
       "      <td>687</td>\n",
       "      <td>4.366812</td>\n",
       "      <td>10.189229</td>\n",
       "      <td>10.480349</td>\n",
       "      <td>74.963610</td>\n",
       "      <td>0.000000</td>\n",
       "    </tr>\n",
       "    <tr>\n",
       "      <th>180</th>\n",
       "      <td>60605</td>\n",
       "      <td>32077</td>\n",
       "      <td>8.856813</td>\n",
       "      <td>15.406678</td>\n",
       "      <td>14.250086</td>\n",
       "      <td>57.037753</td>\n",
       "      <td>4.448670</td>\n",
       "    </tr>\n",
       "  </tbody>\n",
       "</table>\n",
       "</div>"
      ],
      "text/plain": [
       "     geography  population_total  population_latinx  \\\n",
       "176      60601             14804           8.335585   \n",
       "177      60602              1142          27.232925   \n",
       "178      60603              1275           6.117647   \n",
       "179      60604               687           4.366812   \n",
       "180      60605             32077           8.856813   \n",
       "\n",
       "     population_asian_non_latinx  population_black_non_latinx  \\\n",
       "176                    25.851121                     6.133477   \n",
       "177                     8.844133                     3.327496   \n",
       "178                    31.137255                     5.568627   \n",
       "179                    10.189229                    10.480349   \n",
       "180                    15.406678                    14.250086   \n",
       "\n",
       "     population_white_non_latinx  population_other_race_non  \n",
       "176                    54.877060                   4.802756  \n",
       "177                    47.022767                  13.572680  \n",
       "178                    56.705882                   0.470588  \n",
       "179                    74.963610                   0.000000  \n",
       "180                    57.037753                   4.448670  "
      ]
     },
     "execution_count": 65,
     "metadata": {},
     "output_type": "execute_result"
    }
   ],
   "source": [
    "#Here is my modified datset that now includes the demographic totals calculated above\n",
    "demographic_data2021.head()\n"
   ]
  },
  {
   "cell_type": "markdown",
   "id": "582b3cf2",
   "metadata": {},
   "source": [
    "##### Now that my inspection and demographic data is prepared, I am starting the analysis."
   ]
  },
  {
   "cell_type": "markdown",
   "id": "c81ad45f",
   "metadata": {},
   "source": [
    "# Analysis"
   ]
  },
  {
   "cell_type": "markdown",
   "id": "72ae60c9",
   "metadata": {},
   "source": [
    "### Aggregate Inspections by Zip Code"
   ]
  },
  {
   "cell_type": "markdown",
   "id": "23f4d0c7",
   "metadata": {},
   "source": [
    "##### I want to see the distribution of inspection outcomes bt zip code. This will prepare me to merge the demographic data with inspections data since I am planning to merge them both on zipcode. This is the column they both have in common."
   ]
  },
  {
   "cell_type": "code",
   "execution_count": 66,
   "id": "2a0dac16",
   "metadata": {},
   "outputs": [],
   "source": [
    "#Grouping by zip code to see how many inspections correspond to each outcome\n",
    "#Putting outcomes from this into a dataframe\n",
    "inspections_by_zip = inspections_data_restaurants.groupby('zip')['results'].value_counts().unstack()"
   ]
  },
  {
   "cell_type": "code",
   "execution_count": 67,
   "id": "9f95cf97",
   "metadata": {},
   "outputs": [],
   "source": [
    "#Calculating the sum of inspections for each zip code\n",
    "#Adding these values to a column in the inspections_zip dataframe\n",
    "inspections_by_zip['n_inspections'] = inspections_by_zip.sum(axis=1)"
   ]
  },
  {
   "cell_type": "code",
   "execution_count": 68,
   "id": "f2d18a73",
   "metadata": {},
   "outputs": [
    {
     "data": {
      "text/html": [
       "<div>\n",
       "<style scoped>\n",
       "    .dataframe tbody tr th:only-of-type {\n",
       "        vertical-align: middle;\n",
       "    }\n",
       "\n",
       "    .dataframe tbody tr th {\n",
       "        vertical-align: top;\n",
       "    }\n",
       "\n",
       "    .dataframe thead th {\n",
       "        text-align: right;\n",
       "    }\n",
       "</style>\n",
       "<table border=\"1\" class=\"dataframe\">\n",
       "  <thead>\n",
       "    <tr style=\"text-align: right;\">\n",
       "      <th>results</th>\n",
       "      <th>Fail</th>\n",
       "      <th>Pass</th>\n",
       "      <th>Pass w/ Conditions</th>\n",
       "      <th>n_inspections</th>\n",
       "    </tr>\n",
       "    <tr>\n",
       "      <th>zip</th>\n",
       "      <th></th>\n",
       "      <th></th>\n",
       "      <th></th>\n",
       "      <th></th>\n",
       "    </tr>\n",
       "  </thead>\n",
       "  <tbody>\n",
       "    <tr>\n",
       "      <th>60601</th>\n",
       "      <td>49</td>\n",
       "      <td>261</td>\n",
       "      <td>107</td>\n",
       "      <td>417</td>\n",
       "    </tr>\n",
       "    <tr>\n",
       "      <th>60602</th>\n",
       "      <td>36</td>\n",
       "      <td>106</td>\n",
       "      <td>43</td>\n",
       "      <td>185</td>\n",
       "    </tr>\n",
       "    <tr>\n",
       "      <th>60603</th>\n",
       "      <td>45</td>\n",
       "      <td>138</td>\n",
       "      <td>67</td>\n",
       "      <td>250</td>\n",
       "    </tr>\n",
       "    <tr>\n",
       "      <th>60604</th>\n",
       "      <td>36</td>\n",
       "      <td>105</td>\n",
       "      <td>32</td>\n",
       "      <td>173</td>\n",
       "    </tr>\n",
       "    <tr>\n",
       "      <th>60605</th>\n",
       "      <td>187</td>\n",
       "      <td>274</td>\n",
       "      <td>76</td>\n",
       "      <td>537</td>\n",
       "    </tr>\n",
       "  </tbody>\n",
       "</table>\n",
       "</div>"
      ],
      "text/plain": [
       "results  Fail  Pass  Pass w/ Conditions  n_inspections\n",
       "zip                                                   \n",
       "60601      49   261                 107            417\n",
       "60602      36   106                  43            185\n",
       "60603      45   138                  67            250\n",
       "60604      36   105                  32            173\n",
       "60605     187   274                  76            537"
      ]
     },
     "execution_count": 68,
     "metadata": {},
     "output_type": "execute_result"
    }
   ],
   "source": [
    "inspections_by_zip.head()"
   ]
  },
  {
   "cell_type": "markdown",
   "id": "7baa2935",
   "metadata": {},
   "source": [
    "##### To make sense of these numbers of inspections, I am transforming the number of inspections from a raw number to a percentage"
   ]
  },
  {
   "cell_type": "code",
   "execution_count": 69,
   "id": "7120e963",
   "metadata": {},
   "outputs": [],
   "source": [
    "#Converting # of inspections to percentages\n",
    "inspections_by_zip['Fail'] = inspections_by_zip['Fail']*100/inspections_by_zip['n_inspections']\n",
    "inspections_by_zip['Pass'] = inspections_by_zip['Pass']*100/inspections_by_zip['n_inspections']\n",
    "inspections_by_zip['Pass_w_conditions'] = inspections_by_zip['Pass w/ Conditions']*100/inspections_by_zip['n_inspections']\n",
    "# inspections_by_zip = inspections_by_zip.drop(columns=['Pass w/ Conditions'])\n",
    "\n",
    "#Resetting the index so that it is no longer the zip code\n",
    "inspections_by_zip = inspections_by_zip.reset_index()"
   ]
  },
  {
   "cell_type": "code",
   "execution_count": 70,
   "id": "fbce36ef",
   "metadata": {},
   "outputs": [
    {
     "data": {
      "text/html": [
       "<div>\n",
       "<style scoped>\n",
       "    .dataframe tbody tr th:only-of-type {\n",
       "        vertical-align: middle;\n",
       "    }\n",
       "\n",
       "    .dataframe tbody tr th {\n",
       "        vertical-align: top;\n",
       "    }\n",
       "\n",
       "    .dataframe thead th {\n",
       "        text-align: right;\n",
       "    }\n",
       "</style>\n",
       "<table border=\"1\" class=\"dataframe\">\n",
       "  <thead>\n",
       "    <tr style=\"text-align: right;\">\n",
       "      <th>results</th>\n",
       "      <th>zip</th>\n",
       "      <th>Fail</th>\n",
       "      <th>Pass</th>\n",
       "      <th>Pass w/ Conditions</th>\n",
       "      <th>n_inspections</th>\n",
       "      <th>Pass_w_conditions</th>\n",
       "    </tr>\n",
       "  </thead>\n",
       "  <tbody>\n",
       "    <tr>\n",
       "      <th>0</th>\n",
       "      <td>60601</td>\n",
       "      <td>11.750600</td>\n",
       "      <td>62.589928</td>\n",
       "      <td>107</td>\n",
       "      <td>417</td>\n",
       "      <td>25.659472</td>\n",
       "    </tr>\n",
       "    <tr>\n",
       "      <th>1</th>\n",
       "      <td>60602</td>\n",
       "      <td>19.459459</td>\n",
       "      <td>57.297297</td>\n",
       "      <td>43</td>\n",
       "      <td>185</td>\n",
       "      <td>23.243243</td>\n",
       "    </tr>\n",
       "    <tr>\n",
       "      <th>2</th>\n",
       "      <td>60603</td>\n",
       "      <td>18.000000</td>\n",
       "      <td>55.200000</td>\n",
       "      <td>67</td>\n",
       "      <td>250</td>\n",
       "      <td>26.800000</td>\n",
       "    </tr>\n",
       "    <tr>\n",
       "      <th>3</th>\n",
       "      <td>60604</td>\n",
       "      <td>20.809249</td>\n",
       "      <td>60.693642</td>\n",
       "      <td>32</td>\n",
       "      <td>173</td>\n",
       "      <td>18.497110</td>\n",
       "    </tr>\n",
       "    <tr>\n",
       "      <th>4</th>\n",
       "      <td>60605</td>\n",
       "      <td>34.823091</td>\n",
       "      <td>51.024209</td>\n",
       "      <td>76</td>\n",
       "      <td>537</td>\n",
       "      <td>14.152700</td>\n",
       "    </tr>\n",
       "  </tbody>\n",
       "</table>\n",
       "</div>"
      ],
      "text/plain": [
       "results    zip       Fail       Pass  Pass w/ Conditions  n_inspections  \\\n",
       "0        60601  11.750600  62.589928                 107            417   \n",
       "1        60602  19.459459  57.297297                  43            185   \n",
       "2        60603  18.000000  55.200000                  67            250   \n",
       "3        60604  20.809249  60.693642                  32            173   \n",
       "4        60605  34.823091  51.024209                  76            537   \n",
       "\n",
       "results  Pass_w_conditions  \n",
       "0                25.659472  \n",
       "1                23.243243  \n",
       "2                26.800000  \n",
       "3                18.497110  \n",
       "4                14.152700  "
      ]
     },
     "execution_count": 70,
     "metadata": {},
     "output_type": "execute_result"
    }
   ],
   "source": [
    "#The dataframe is now updated\n",
    "#Shows the total number of inspections and percentages of each inspection outcome by zipcode\n",
    "inspections_by_zip.head()"
   ]
  },
  {
   "cell_type": "code",
   "execution_count": 71,
   "id": "72a2b545",
   "metadata": {},
   "outputs": [],
   "source": [
    "#One row in the dataframe stood out as it only had 7 inspections\n",
    "#I see 57% fail rate, almost twice as much as other rows. Outliars are likely\n",
    "#These averages wont be helpful\n",
    "#Making decision to drop any zipcodes with fewer than 10 inspections.\n",
    "inspections_by_zip = inspections_by_zip[inspections_by_zip['n_inspections']>10]\n"
   ]
  },
  {
   "cell_type": "markdown",
   "id": "d74ea1bb",
   "metadata": {},
   "source": [
    "##### Now that the inspections are aggregated by zipcode, I am ready to merge the inspections data set with the demographics data set."
   ]
  },
  {
   "cell_type": "markdown",
   "id": "baf7a7f8",
   "metadata": {},
   "source": [
    "## Merging Inspections and Demographics Dataframes"
   ]
  },
  {
   "attachments": {},
   "cell_type": "markdown",
   "id": "6c151221",
   "metadata": {},
   "source": [
    "With the outcomes of inspections for each zip code, I can bring in the demographic dataset to start to answer RQ1.\n",
    "\n",
    "**Inspections dataset**: Tells us the rates of different inspection outcomes for each zip code\n",
    "\n",
    "**Demographic dataset**: Tells us the rates of different demographic groups that live in each zip code\n",
    "\n",
    "Merging these 2 datasets will allow to see inspection outcomes and the demographic populations connected to one another for each zip code. To complete this merge, I only want to focus on zip codes where I have data about both inspections and demographics."
   ]
  },
  {
   "cell_type": "code",
   "execution_count": 72,
   "id": "1241ceb3",
   "metadata": {},
   "outputs": [],
   "source": [
    "#Merging both dfs: inspections by zip code as left dataset, demographic data as right\n",
    "#Using inner join because this restricts me to zip codes that both dataframes have\n",
    "#'zip' and 'geography' both contain zip codes\n",
    "inspections_by_zip_demo = pd.merge(left=inspections_by_zip,right=demographic_data2021,left_on='zip',right_on='geography',how='inner')"
   ]
  },
  {
   "cell_type": "code",
   "execution_count": 73,
   "id": "1424a2be",
   "metadata": {},
   "outputs": [
    {
     "data": {
      "text/html": [
       "<div>\n",
       "<style scoped>\n",
       "    .dataframe tbody tr th:only-of-type {\n",
       "        vertical-align: middle;\n",
       "    }\n",
       "\n",
       "    .dataframe tbody tr th {\n",
       "        vertical-align: top;\n",
       "    }\n",
       "\n",
       "    .dataframe thead th {\n",
       "        text-align: right;\n",
       "    }\n",
       "</style>\n",
       "<table border=\"1\" class=\"dataframe\">\n",
       "  <thead>\n",
       "    <tr style=\"text-align: right;\">\n",
       "      <th></th>\n",
       "      <th>zip</th>\n",
       "      <th>Fail</th>\n",
       "      <th>Pass</th>\n",
       "      <th>Pass w/ Conditions</th>\n",
       "      <th>n_inspections</th>\n",
       "      <th>Pass_w_conditions</th>\n",
       "      <th>geography</th>\n",
       "      <th>population_total</th>\n",
       "      <th>population_latinx</th>\n",
       "      <th>population_asian_non_latinx</th>\n",
       "      <th>population_black_non_latinx</th>\n",
       "      <th>population_white_non_latinx</th>\n",
       "      <th>population_other_race_non</th>\n",
       "    </tr>\n",
       "  </thead>\n",
       "  <tbody>\n",
       "    <tr>\n",
       "      <th>0</th>\n",
       "      <td>60601</td>\n",
       "      <td>11.750600</td>\n",
       "      <td>62.589928</td>\n",
       "      <td>107</td>\n",
       "      <td>417</td>\n",
       "      <td>25.659472</td>\n",
       "      <td>60601</td>\n",
       "      <td>14804</td>\n",
       "      <td>8.335585</td>\n",
       "      <td>25.851121</td>\n",
       "      <td>6.133477</td>\n",
       "      <td>54.877060</td>\n",
       "      <td>4.802756</td>\n",
       "    </tr>\n",
       "    <tr>\n",
       "      <th>1</th>\n",
       "      <td>60602</td>\n",
       "      <td>19.459459</td>\n",
       "      <td>57.297297</td>\n",
       "      <td>43</td>\n",
       "      <td>185</td>\n",
       "      <td>23.243243</td>\n",
       "      <td>60602</td>\n",
       "      <td>1142</td>\n",
       "      <td>27.232925</td>\n",
       "      <td>8.844133</td>\n",
       "      <td>3.327496</td>\n",
       "      <td>47.022767</td>\n",
       "      <td>13.572680</td>\n",
       "    </tr>\n",
       "    <tr>\n",
       "      <th>2</th>\n",
       "      <td>60603</td>\n",
       "      <td>18.000000</td>\n",
       "      <td>55.200000</td>\n",
       "      <td>67</td>\n",
       "      <td>250</td>\n",
       "      <td>26.800000</td>\n",
       "      <td>60603</td>\n",
       "      <td>1275</td>\n",
       "      <td>6.117647</td>\n",
       "      <td>31.137255</td>\n",
       "      <td>5.568627</td>\n",
       "      <td>56.705882</td>\n",
       "      <td>0.470588</td>\n",
       "    </tr>\n",
       "    <tr>\n",
       "      <th>3</th>\n",
       "      <td>60604</td>\n",
       "      <td>20.809249</td>\n",
       "      <td>60.693642</td>\n",
       "      <td>32</td>\n",
       "      <td>173</td>\n",
       "      <td>18.497110</td>\n",
       "      <td>60604</td>\n",
       "      <td>687</td>\n",
       "      <td>4.366812</td>\n",
       "      <td>10.189229</td>\n",
       "      <td>10.480349</td>\n",
       "      <td>74.963610</td>\n",
       "      <td>0.000000</td>\n",
       "    </tr>\n",
       "    <tr>\n",
       "      <th>4</th>\n",
       "      <td>60605</td>\n",
       "      <td>34.823091</td>\n",
       "      <td>51.024209</td>\n",
       "      <td>76</td>\n",
       "      <td>537</td>\n",
       "      <td>14.152700</td>\n",
       "      <td>60605</td>\n",
       "      <td>32077</td>\n",
       "      <td>8.856813</td>\n",
       "      <td>15.406678</td>\n",
       "      <td>14.250086</td>\n",
       "      <td>57.037753</td>\n",
       "      <td>4.448670</td>\n",
       "    </tr>\n",
       "  </tbody>\n",
       "</table>\n",
       "</div>"
      ],
      "text/plain": [
       "     zip       Fail       Pass  Pass w/ Conditions  n_inspections  \\\n",
       "0  60601  11.750600  62.589928                 107            417   \n",
       "1  60602  19.459459  57.297297                  43            185   \n",
       "2  60603  18.000000  55.200000                  67            250   \n",
       "3  60604  20.809249  60.693642                  32            173   \n",
       "4  60605  34.823091  51.024209                  76            537   \n",
       "\n",
       "   Pass_w_conditions  geography  population_total  population_latinx  \\\n",
       "0          25.659472      60601             14804           8.335585   \n",
       "1          23.243243      60602              1142          27.232925   \n",
       "2          26.800000      60603              1275           6.117647   \n",
       "3          18.497110      60604               687           4.366812   \n",
       "4          14.152700      60605             32077           8.856813   \n",
       "\n",
       "   population_asian_non_latinx  population_black_non_latinx  \\\n",
       "0                    25.851121                     6.133477   \n",
       "1                     8.844133                     3.327496   \n",
       "2                    31.137255                     5.568627   \n",
       "3                    10.189229                    10.480349   \n",
       "4                    15.406678                    14.250086   \n",
       "\n",
       "   population_white_non_latinx  population_other_race_non  \n",
       "0                    54.877060                   4.802756  \n",
       "1                    47.022767                  13.572680  \n",
       "2                    56.705882                   0.470588  \n",
       "3                    74.963610                   0.000000  \n",
       "4                    57.037753                   4.448670  "
      ]
     },
     "execution_count": 73,
     "metadata": {},
     "output_type": "execute_result"
    }
   ],
   "source": [
    "inspections_by_zip_demo.head()"
   ]
  },
  {
   "cell_type": "markdown",
   "id": "e546637f",
   "metadata": {},
   "source": [
    "##### The dataframes have been merged succesfully into the \"inspections_by_zip_demo\" dataframe. I can start analyzing inspection outcomes by demographics."
   ]
  },
  {
   "cell_type": "markdown",
   "id": "0a2627c7",
   "metadata": {},
   "source": [
    "## Analyze Inspection Outcomes by Demographics"
   ]
  },
  {
   "cell_type": "markdown",
   "id": "60882121",
   "metadata": {},
   "source": [
    "##### I want to visualize how the inspection fail rate changes as the population of the majority, or the White non-Latinx group increases."
   ]
  },
  {
   "cell_type": "code",
   "execution_count": 1,
   "id": "843d8e4b",
   "metadata": {},
   "outputs": [
    {
     "ename": "NameError",
     "evalue": "name 'sns' is not defined",
     "output_type": "error",
     "traceback": [
      "\u001b[0;31m---------------------------------------------------------------------------\u001b[0m",
      "\u001b[0;31mNameError\u001b[0m                                 Traceback (most recent call last)",
      "Cell \u001b[0;32mIn[1], line 3\u001b[0m\n\u001b[1;32m      1\u001b[0m \u001b[39m#Creating a plot where each dot represents a zip code and the linear regression line will show a trend \u001b[39;00m\n\u001b[0;32m----> 3\u001b[0m sns\u001b[39m.\u001b[39mregplot(x\u001b[39m=\u001b[39m\u001b[39m'\u001b[39m\u001b[39mpopulation_white_non_latinx\u001b[39m\u001b[39m'\u001b[39m,y\u001b[39m=\u001b[39m\u001b[39m'\u001b[39m\u001b[39mFail\u001b[39m\u001b[39m'\u001b[39m,data\u001b[39m=\u001b[39minspections_by_zip_demo)\n\u001b[1;32m      4\u001b[0m plt\u001b[39m.\u001b[39mtitle(\u001b[39m'\u001b[39m\u001b[39mFail Rate as Proportion of White Non_Latinx Demographic Changes\u001b[39m\u001b[39m'\u001b[39m)\n\u001b[1;32m      5\u001b[0m plt\u001b[39m.\u001b[39mshow()\n",
      "\u001b[0;31mNameError\u001b[0m: name 'sns' is not defined"
     ]
    }
   ],
   "source": [
    "#Creating a plot where each dot represents a zip code and the linear regression line will show a trend \n",
    "\n",
    "sns.regplot(x='population_white_non_latinx',y='Fail',data=inspections_by_zip_demo)\n",
    "plt.title('Fail Rate as Proportion of White Non_Latinx Demographic Changes')\n",
    "plt.show()"
   ]
  },
  {
   "cell_type": "markdown",
   "id": "888599cd",
   "metadata": {},
   "source": [
    "##### This plot shows a gradual downward sloping trend. As a neighborhood has a higher proportion of white residents, there are more restaurants passing inspections."
   ]
  },
  {
   "cell_type": "markdown",
   "id": "689232c5",
   "metadata": {},
   "source": [
    "##### A simple linear regression analysis that takes the fail rate as a function of the white non-latinx population will further demonstrate the relationship seen in the visualization above."
   ]
  },
  {
   "cell_type": "code",
   "execution_count": 75,
   "id": "6ddf2caf",
   "metadata": {
    "scrolled": true
   },
   "outputs": [
    {
     "name": "stdout",
     "output_type": "stream",
     "text": [
      "                            OLS Regression Results                            \n",
      "==============================================================================\n",
      "Dep. Variable:                   Fail   R-squared:                       0.186\n",
      "Model:                            OLS   Adj. R-squared:                  0.172\n",
      "Method:                 Least Squares   F-statistic:                     12.60\n",
      "Date:                Wed, 15 Nov 2023   Prob (F-statistic):           0.000799\n",
      "Time:                        23:10:13   Log-Likelihood:                -173.15\n",
      "No. Observations:                  57   AIC:                             350.3\n",
      "Df Residuals:                      55   BIC:                             354.4\n",
      "Df Model:                           1                                         \n",
      "Covariance Type:            nonrobust                                         \n",
      "===============================================================================================\n",
      "                                  coef    std err          t      P>|t|      [0.025      0.975]\n",
      "-----------------------------------------------------------------------------------------------\n",
      "Intercept                      28.5498      1.204     23.708      0.000      26.136      30.963\n",
      "population_white_non_latinx    -0.0922      0.026     -3.549      0.001      -0.144      -0.040\n",
      "==============================================================================\n",
      "Omnibus:                        1.404   Durbin-Watson:                   1.670\n",
      "Prob(Omnibus):                  0.496   Jarque-Bera (JB):                1.166\n",
      "Skew:                           0.348   Prob(JB):                        0.558\n",
      "Kurtosis:                       2.915   Cond. No.                         82.1\n",
      "==============================================================================\n",
      "\n",
      "Notes:\n",
      "[1] Standard Errors assume that the covariance matrix of the errors is correctly specified.\n"
     ]
    }
   ],
   "source": [
    "#Linear regression model.\n",
    "#Dependent variable is the fail rate ('Fail')\n",
    "#Independent variable is the white non-Latinx population\n",
    "results = smf.ols('Fail ~ population_white_non_latinx', data=inspections_by_zip_demo).fit()\n",
    "print(results.summary())"
   ]
  },
  {
   "cell_type": "markdown",
   "id": "bcaa0b5c",
   "metadata": {},
   "source": [
    "### The values seen in this regression analysis suggest a significant negative relationship between the white non-Latinx population and failure rate. "
   ]
  },
  {
   "cell_type": "markdown",
   "id": "c72fb7fe",
   "metadata": {},
   "source": [
    "Given the negative coefficient (-0.092) and the low p-value (0.001 < 0.05), I can interpret the results: There is a statistically significant negative relationship between the rate of inspection failure ('Fail') and the rate of the white non-Latinx population. As the white non-Latinx population increases, the rate of inspection failure tends to decrease."
   ]
  },
  {
   "cell_type": "markdown",
   "id": "9ab93e85",
   "metadata": {},
   "source": [
    "### As a neighborhood has a higher proportion of non-white residents, rate of inspection failure may increase. "
   ]
  },
  {
   "cell_type": "markdown",
   "id": "e094f5cb",
   "metadata": {},
   "source": [
    "Progress has been made towards RQ1, however I still need to analyze further.\n",
    "\n",
    "1. I am currently working with 3 outcomes (Pass, Fail, and Pass w/ Conditions). Are pass and pass w/ conditions the same outcome?\n",
    "\n",
    "\n",
    "2. How can I better understand the relationship between neighborhood demographics and inspection outcomes? How will breaking down the different demographic groups impact my answer to RQ1?"
   ]
  },
  {
   "cell_type": "markdown",
   "id": "a4d3e3c0",
   "metadata": {},
   "source": [
    "## Measuring Pass Rate"
   ]
  },
  {
   "cell_type": "markdown",
   "id": "460b9bc3",
   "metadata": {},
   "source": [
    "###### Determining if I should group the \"Pass\" and \"Pass w/ Conditionns\" outcomes together:"
   ]
  },
  {
   "cell_type": "code",
   "execution_count": 77,
   "id": "671d0f47",
   "metadata": {},
   "outputs": [
    {
     "data": {
      "image/png": "[encoded data removed]",
      "text/plain": [
       "<Figure size 640x480 with 1 Axes>"
      ]
     },
     "metadata": {},
     "output_type": "display_data"
    }
   ],
   "source": [
    "#Completing analysis I did with the white non-Latinx population and fail rate with the pass rate instead\n",
    "sns.regplot(x='population_white_non_latinx',y='Pass',data=inspections_by_zip_demo)\n",
    "plt.title('Pass Rate as Proportion of White Non_Latinx Demographic Changes')\n",
    "plt.show()"
   ]
  },
  {
   "cell_type": "markdown",
   "id": "5c66e9ae",
   "metadata": {},
   "source": [
    " ##### This plot shows a gradual upward sloping trend. As a neighborhood has a higher proportion of white residents, there are more restaurants passing inspections."
   ]
  },
  {
   "cell_type": "code",
   "execution_count": 80,
   "id": "8cf896c6",
   "metadata": {},
   "outputs": [
    {
     "data": {
      "image/png": "[encoded data removed]",
      "text/plain": [
       "<Figure size 640x480 with 1 Axes>"
      ]
     },
     "metadata": {},
     "output_type": "display_data"
    }
   ],
   "source": [
    "#Completing analysis I did with the white non-Latinx population and fail rate with the pass w/ conditions rate instead\n",
    "sns.regplot(x='population_white_non_latinx',y='Pass_w_conditions',data=inspections_by_zip_demo)\n",
    "plt.title('Pass w/ Conditions Rate as Proportion of White Non_Latinx Demographic Changes')\n",
    "plt.show()\n",
    "#I am seeing a similiar relationship (positive) with the the \"pass by conditions\" outcome. \n",
    "#It seems that pass and pass by conditions are following pretty similar patterns\n",
    "#Both are showing a similar positive relationship with percent of white non latinx population"
   ]
  },
  {
   "cell_type": "markdown",
   "id": "277231de",
   "metadata": {},
   "source": [
    "##### I am seeing a similar relationship (positive) with the \"pass w/ conditons\" outcome. It seems that pass & pass w/ conditions are following similar patterns. Both show a positibve relationship with the percentage of the white non-Latinx population. "
   ]
  },
  {
   "cell_type": "markdown",
   "id": "df3e23a6",
   "metadata": {},
   "source": [
    "##### While I have initial reason to beleive pass and pass w/ conditions have similar patterns, I want to analyze further to determine if I can treat these groups as the same. Splitting neighborhoods into 2 groups (one where the majority of the neighborhood is the white non-Latinx population and one where it is not), I can calculate the outcome rates to support my decision."
   ]
  },
  {
   "cell_type": "markdown",
   "id": "60f1d6b3",
   "metadata": {},
   "source": [
    "### Splitting Neighborhoods into 2 Groups: Majority white non-Latinx vs Minority white non-Latinx"
   ]
  },
  {
   "cell_type": "code",
   "execution_count": 82,
   "id": "946036f9",
   "metadata": {},
   "outputs": [],
   "source": [
    "#Creating a majority_minority column that will indicate whether the majorirty or minority of the population is white non-latinx\n",
    "#Classifying zip codes by based on if population is greater or less than 50%\n",
    "#Above 50% indicates majority, below indicates minority\n",
    "inspections_by_zip_demo['majority_minority'] = inspections_by_zip_demo['population_white_non_latinx']<50"
   ]
  },
  {
   "cell_type": "code",
   "execution_count": 84,
   "id": "8e1ec262",
   "metadata": {},
   "outputs": [
    {
     "data": {
      "text/html": [
       "<div>\n",
       "<style scoped>\n",
       "    .dataframe tbody tr th:only-of-type {\n",
       "        vertical-align: middle;\n",
       "    }\n",
       "\n",
       "    .dataframe tbody tr th {\n",
       "        vertical-align: top;\n",
       "    }\n",
       "\n",
       "    .dataframe thead th {\n",
       "        text-align: right;\n",
       "    }\n",
       "</style>\n",
       "<table border=\"1\" class=\"dataframe\">\n",
       "  <thead>\n",
       "    <tr style=\"text-align: right;\">\n",
       "      <th></th>\n",
       "      <th>fail_rate</th>\n",
       "      <th>pass_rate</th>\n",
       "      <th>pass_w_conditions_rate</th>\n",
       "    </tr>\n",
       "    <tr>\n",
       "      <th>majority_minority</th>\n",
       "      <th></th>\n",
       "      <th></th>\n",
       "      <th></th>\n",
       "    </tr>\n",
       "  </thead>\n",
       "  <tbody>\n",
       "    <tr>\n",
       "      <th>False</th>\n",
       "      <td>21.824476</td>\n",
       "      <td>57.005921</td>\n",
       "      <td>21.169603</td>\n",
       "    </tr>\n",
       "    <tr>\n",
       "      <th>True</th>\n",
       "      <td>26.889402</td>\n",
       "      <td>54.985487</td>\n",
       "      <td>18.125111</td>\n",
       "    </tr>\n",
       "  </tbody>\n",
       "</table>\n",
       "</div>"
      ],
      "text/plain": [
       "                   fail_rate  pass_rate  pass_w_conditions_rate\n",
       "majority_minority                                              \n",
       "False              21.824476  57.005921               21.169603\n",
       "True               26.889402  54.985487               18.125111"
      ]
     },
     "execution_count": 84,
     "metadata": {},
     "output_type": "execute_result"
    }
   ],
   "source": [
    "#Creating a dataframe that shows majority_minority with True & False values\n",
    "#False: Zip Code where the minority is white non-Latinx\n",
    "#True: Zip codes where the majority is white non-Latinx\n",
    "outcomes_by_maj_min = inspections_by_zip_demo.groupby('majority_minority').aggregate(\n",
    "    fail_rate = ('Fail', pd.DataFrame.mean),\n",
    "    pass_rate = ('Pass', pd.DataFrame.mean),\n",
    "    pass_w_conditions_rate = ('Pass_w_conditions', pd.DataFrame.mean)\n",
    ")\n",
    "outcomes_by_maj_min"
   ]
  },
  {
   "cell_type": "markdown",
   "id": "71a77d23",
   "metadata": {},
   "source": [
    "I want to calculate the differences in the pass/fail rates of the groups to make sense of these rates"
   ]
  },
  {
   "cell_type": "code",
   "execution_count": 85,
   "id": "17eccffe",
   "metadata": {},
   "outputs": [
    {
     "data": {
      "text/html": [
       "<div>\n",
       "<style scoped>\n",
       "    .dataframe tbody tr th:only-of-type {\n",
       "        vertical-align: middle;\n",
       "    }\n",
       "\n",
       "    .dataframe tbody tr th {\n",
       "        vertical-align: top;\n",
       "    }\n",
       "\n",
       "    .dataframe thead th {\n",
       "        text-align: right;\n",
       "    }\n",
       "</style>\n",
       "<table border=\"1\" class=\"dataframe\">\n",
       "  <thead>\n",
       "    <tr style=\"text-align: right;\">\n",
       "      <th></th>\n",
       "      <th>fail_rate</th>\n",
       "      <th>pass_rate</th>\n",
       "      <th>pass_w_conditions_rate</th>\n",
       "    </tr>\n",
       "    <tr>\n",
       "      <th>majority_minority</th>\n",
       "      <th></th>\n",
       "      <th></th>\n",
       "      <th></th>\n",
       "    </tr>\n",
       "  </thead>\n",
       "  <tbody>\n",
       "    <tr>\n",
       "      <th>False</th>\n",
       "      <td>NaN</td>\n",
       "      <td>NaN</td>\n",
       "      <td>NaN</td>\n",
       "    </tr>\n",
       "    <tr>\n",
       "      <th>True</th>\n",
       "      <td>5.064927</td>\n",
       "      <td>-2.020435</td>\n",
       "      <td>-3.044492</td>\n",
       "    </tr>\n",
       "  </tbody>\n",
       "</table>\n",
       "</div>"
      ],
      "text/plain": [
       "                   fail_rate  pass_rate  pass_w_conditions_rate\n",
       "majority_minority                                              \n",
       "False                    NaN        NaN                     NaN\n",
       "True                5.064927  -2.020435               -3.044492"
      ]
     },
     "execution_count": 85,
     "metadata": {},
     "output_type": "execute_result"
    }
   ],
   "source": [
    "#Calculating the differences by groups\n",
    "outcomes_by_maj_min.diff()"
   ]
  },
  {
   "cell_type": "markdown",
   "id": "ca69a43b",
   "metadata": {},
   "source": [
    "##### The failure rate is about 5% higher in zipcodes where the majority of the population is the minority (not white non-Latinx). Pass rates are about 2% lower in neighborhoods where the majority of the population is the minority (not white non-Latinx)."
   ]
  },
  {
   "cell_type": "markdown",
   "id": "ff3f795a",
   "metadata": {},
   "source": [
    "### These differences in failure rates give me strong evidence that it is reasonable to consider \"Pass\" and \"Pass w/ conditons\" as one category."
   ]
  },
  {
   "cell_type": "markdown",
   "id": "9d4f8cda",
   "metadata": {},
   "source": [
    "##### I want to visualize these differences and use the majority/minority categorize to visualize fail rates. "
   ]
  },
  {
   "cell_type": "code",
   "execution_count": 92,
   "id": "3ffe1484",
   "metadata": {},
   "outputs": [],
   "source": [
    "#Using majority/minority clasisifcation (50%) to create new dataframes prepare for visualizations \n",
    "#Creating a dataframe that gives me the fail rates for zip codes that are comprised of majority_minority residents (majority is not white Non-Latinx)\n",
    "majority_minority_df = inspections_by_zip_demo[inspections_by_zip_demo['population_white_non_latinx'] < 50]\n",
    "majority_minority_fail_rate = majority_minority_df[['zip', 'Fail']].copy()\n",
    "\n",
    "#Creating a dataframe that gives me the fail rates for zip codes that are comprised of majority_majority residents (majority white Non-Latinx)\n",
    "majority_majority_df = inspections_by_zip_demo[inspections_by_zip_demo['population_white_non_latinx'] > 50]\n",
    "majority_majority_fail_rate = majority_majority_df[['zip', 'Fail']].copy()\n",
    "\n",
    "#Concatening these two dataframes to visualize them in one plot\n",
    "concatenated_df = pd.concat([majority_minority_fail_rate.assign(population_type='Majority Minority'),\n",
    "                             majority_majority_fail_rate.assign(population_type='Majority Majority')])"
   ]
  },
  {
   "cell_type": "code",
   "execution_count": 131,
   "id": "04b5ad64",
   "metadata": {},
   "outputs": [
    {
     "data": {
      "image/png": "[encoded data removed]",
      "text/plain": [
       "<Figure size 1500x800 with 2 Axes>"
      ]
     },
     "metadata": {},
     "output_type": "display_data"
    }
   ],
   "source": [
    "#Creating a heat map that visualizes fail rates across different zip codes for both the majority majority minority populations\n",
    "\n",
    "\n",
    "#Enhancing readability of the plot since all zipcodes will be displayed\n",
    "plt.figure(figsize=(15, 8))\n",
    "sns.set(font_scale=0.8)  \n",
    "plt.xticks(rotation=45)\n",
    "\n",
    "#cmap parameter sets the color map to shades of greens\n",
    "sns.heatmap(concatenated_df.pivot_table(index='zip', columns='population_type', values='Fail'),\n",
    "            cmap='Greens', annot=False, fmt=\".2f\", cbar_kws={'label': 'Inspection Failure Rate'})\n",
    "\n",
    "\n",
    "plt.title('Inspection Failure Rates in Majority-Majority and Majority-Minority Populations')\n",
    "plt.show()"
   ]
  },
  {
   "cell_type": "markdown",
   "id": "de70a506",
   "metadata": {},
   "source": [
    "This heatmap visualizes the inspection failure rates across different zip codes and compares the \"majority majority\" and \"majority minority\" populations. More color intensity, or darker green, represents higher fail rates. The color bar on the side provides a reference for the fail rate values."
   ]
  },
  {
   "cell_type": "markdown",
   "id": "9693fdb5",
   "metadata": {},
   "source": [
    "##### Similarily to what was seen when calculating the differences in pass/fail rates across both groups, this heatmap further emphasizes that inspection failure rates tend to be higher among populations that are comprised of a majority of white non-latinx residents.\n",
    "\n",
    "##### It is clear that the minority tends to have higher fail rates. I now want to delve into what these inspection outcomes look like within the other demographic groups."
   ]
  },
  {
   "cell_type": "markdown",
   "id": "100e7904",
   "metadata": {},
   "source": [
    "### Inspection Outcomes among specific demographic groups:\n",
    "\n",
    "1. Latinx\n",
    "2. Asian non-Latinx\n",
    "3. Black non-Latinx\n",
    "\n",
    "##### I want to visualize the linear regression lines of these specific groups and compare them to each other in addition to the trend found with the white non-Latinx population"
   ]
  },
  {
   "cell_type": "code",
   "execution_count": 95,
   "id": "8fdbc25c",
   "metadata": {},
   "outputs": [
    {
     "data": {
      "image/png": "[encoded data removed]",
      "text/plain": [
       "<Figure size 1000x600 with 1 Axes>"
      ]
     },
     "metadata": {},
     "output_type": "display_data"
    }
   ],
   "source": [
    "#Creating a plot with regression lines for all listed populations\n",
    "#Setting scatter to \"false\" as dots for every zip code will clutter the graph\n",
    "#Adding labels to the plots in order to differentiate between demographic groups\n",
    "plt.figure(figsize=(10, 6))\n",
    "sns.regplot(x='population_latinx', y='Fail', data=inspections_by_zip_demo, scatter=False, label='Latinx')\n",
    "sns.regplot(x='population_asian_non_latinx', y='Fail', data=inspections_by_zip_demo, scatter=False, label='Asian non-Latinx')\n",
    "sns.regplot(x='population_white_non_latinx', y='Fail', data=inspections_by_zip_demo, scatter=False, label='White non-Latinx')\n",
    "sns.regplot(x='population_black_non_latinx', y='Fail', data=inspections_by_zip_demo, scatter=False, label='Black non-Latinx')\n",
    "\n",
    "\n",
    "plt.xlabel('Population Proportions')\n",
    "plt.ylabel('Fail Rate')\n",
    "plt.title('Fail Rate by Proportions Demographic Group')\n",
    "\n",
    "plt.legend()\n",
    "plt.show()"
   ]
  },
  {
   "cell_type": "markdown",
   "id": "333c2718",
   "metadata": {},
   "source": [
    "#### This plot shows restaurant inspection fail rates for the proportions of poopulations of several demographic groups.\n",
    "\n",
    "##### The linear regression lines for the Latinx and Black non-Latinx populations have upward sloping trends\n",
    "1. As a neighborhood has a higher proportion of Latinx residents, the rate of failure increases. \n",
    "2. Similarily, as a neighborhood has a higher proportion of Black non-Latinx residents, the rate of failure increases.\n",
    "\n",
    "##### The linear regression lines for the Asian non-LatinX population and White non-Latinx population have downward sloping trends.\n",
    "3. As a neighborhood has a higher proportion of Asian non-Latinx residents, rate of failure may decrease. *I was not expecting this result. This suggests that there may be conditions that contirbute to better inspection outcomes in neighborhoos with a higher proportion of Asian non-Latinx residents.*\n",
    "\n",
    "4. (Previously determined): As a neighborhood has a higher proportion of white non-Latinx residents, rate of failure may decrease,\n"
   ]
  },
  {
   "cell_type": "markdown",
   "id": "02974bd5",
   "metadata": {},
   "source": [
    "### It is clear that there *are* systematic differences in food inspection ratings in neighborhoods with a higher proportion of non-white residnets. "
   ]
  },
  {
   "cell_type": "markdown",
   "id": "1ff08d50",
   "metadata": {},
   "source": [
    "# Discussion of Results"
   ]
  },
  {
   "cell_type": "markdown",
   "id": "8c48cfde",
   "metadata": {},
   "source": [
    "### Answer for RQ1: \n",
    "**There are systematic differences in food inspection ratings in neighborhoods with a higher proportion of non-white residents**.The analysis indicates correlations between demographic factors and restaurant inspection outcomes, revealing pass and fail rates associated with different racial and ethnic groups."
   ]
  },
  {
   "cell_type": "markdown",
   "id": "c0ccdcf4",
   "metadata": {},
   "source": [
    "After merging dataframes that combined restaurant inspection outcomes by zip code and demographic information by zip code, several insights were revealed that led to this answer. The first trend that emerged indicates that neighborhoods with a higher proportion of White non-Latinx residents tend to have a higher rate of restaurants passing inspections. Similarly, as the proportion of White non-Latinx residents in a neighborhood decreases, the rate of failure decreases. This finding further motivated the exploration to break down demographic groups even further.\n",
    "\n",
    "When looking at the relationship of the Latinx population and inspection rates through a scatter plot, a slightly upward trend and positive coefficient indicated that failure rates increase as the proportion of the Latinx population increases. Similar trends emerged when conducting these analyses for the population of Black non-Latinx residents. These findings raise questions about potential challenges or factors affecting restaurants in areas with higher black non-Latinx and Latinx populations.\n",
    "\n",
    "Conversely, when analyzing the relationship of Asian non-Latinx population and inspection rates, a negative relationship was observed. As the population rate of Asian non-Latinx residents increases, the inspection fail rate tends to decrease. This finding suggests potential conditions that contribute to better inspection outcomes in neighborhoods with a higher proportion of Asian non-Latinx residents."
   ]
  },
  {
   "cell_type": "markdown",
   "id": "34f8a88e",
   "metadata": {},
   "source": [
    "***Uncertanties / Limitations / Judgment Calls***"
   ]
  },
  {
   "cell_type": "markdown",
   "id": "3d374251",
   "metadata": {},
   "source": [
    "While these findings provide valuable insights that support my research question and show that there are in fact systematic differences in food inspection ratings in neighborhoods with higher proportions of non-White residents, it is important to note that there are additional factors not considered in the dataset that may influence inspection outcomes. The analysis also does not account for socioeconomic factors or specific characteristics of the food establishments that could contribute to a more comprehensive understanding. \n",
    "\n",
    "I also made judgment calls throughout the analysis that may affect the results. As described in comments of the code cells when preparing the data, I did not need exact locations (address, latitude, longitude) of food establishments for my analysis. I ropped columns from the inspection dataset that were not necessary. I also found some zip codes that only had few inspections (7), and knew that it was likely that there would be outliers with such a small amount of inspections. This motivated the decision to drop any zip codes from the dataset that had fewer than 10 inspections. The other judgment calls involved the inspection outcomes and identifying which ones were important to focus on for this analysis. Knowing that the research question focuses on inspections that passed and failed, I dropped some entries that did not coincide with either outcome (e.g. ‘out of business', ‘not ready’). After dropping those, I chose to further investigate the ‘Pass’ and ‘Pass w/ Conditions’ outcomes to determine if they should both be treated as the same or different. When analyzing the difference in “passing”  and “passing with condition” rates against proportions of the white non-Latinx populations as well as populations where the majority is composed of the minority (not white non-Latinx residents), I observed that both outcomes followed similar patterns. I decided to group the pass/pass with condition outcomes into one category.  "
   ]
  },
  {
   "cell_type": "markdown",
   "id": "798ba96c",
   "metadata": {},
   "source": [
    "### Interpretation of Findings\n",
    "\n",
    "The analysis indicates that neighborhood demographics play a significant role in restaurant inspection outcomes. The positive correlation observed between a higher white non-Latinx population and increased pass/decreased fail rates suggest better overall conditions or compliance with health and safety standards in these neighborhoods. However, it also may indicate racial biases influencing inspection outcomes.\n",
    "\n",
    "The observed correlations with Latinx and Black non-Latinx populations further highlight potential disparities or challenges that could impact food establishments in those communities. The unexpected downward trend with the Asian non-Latinx population and inspection fail rates prompt further exploration of possible factors contributing to this pattern.\n",
    "\n",
    "Overall, these findings align with my expectations in some aspects as they emphasize the need for targeted interventions or changes to inspection practices across diverse communities. Although, the unexpected patterns found in this analysis highlight the necessity for a nuanced understanding of demographic factors and inspection outcomes to bring about changes necessary to food inspection practices.\n"
   ]
  },
  {
   "cell_type": "markdown",
   "id": "72664b40",
   "metadata": {},
   "source": [
    "### Impact on Analysis\n",
    "\n",
    "The findings from RQ1 provide valuable insights that definitely will impact my approach to research questions 2 and 3. \n",
    "\n",
    "RQ2 asks about how the risk category assigned to a restaurant relates to the likelihood of receiving violation citations. The analysis of RQ1 could influence the investigation of risk categories in this question as I now plan to conduct a more comprehensive analysis of how risk categories interact with neighborhood characteristics. This may uncover patterns that contribute to violations.\n",
    "\n",
    "RQ 3 focuses on the relationship between risk category and inspection outcomes varies based on the demographic makeup of neighborhoods. The identified high risk demographic groups in RQ1 guide a focused investigation into whether certain communities are disproportionately affected by specific risk categories. \n",
    "\n",
    "\n",
    "The insights from research from RQ1 will inform policy and organization operations of the problem at hand. This initial analysis highlights the existing issue and warrants the need to design more targeted regulations that address disparities identified in high-risk demographic groups. On the organizational level, those involved in food inspections can leverage this information to start thinking about how inspection practices can be changed, allocate resources more effectively, and enhance training for inspectors.  \n"
   ]
  },
  {
   "cell_type": "markdown",
   "id": "fb6045be",
   "metadata": {},
   "source": []
  }
 ],
 "metadata": {
  "kernelspec": {
   "display_name": "base",
   "language": "python",
   "name": "python3"
  },
  "language_info": {
   "codemirror_mode": {
    "name": "ipython",
    "version": 3
   },
   "file_extension": ".py",
   "mimetype": "text/x-python",
   "name": "python",
   "nbconvert_exporter": "python",
   "pygments_lexer": "ipython3",
   "version": "3.11.4 (main, Jul  5 2023, 09:00:44) [Clang 14.0.6 ]"
  },
  "vscode": {
   "interpreter": {
    "hash": "e0074302058a013f589444f875a5488f01ef0f50e4437d56a8002550daa07829"
   }
  }
 },
 "nbformat": 4,
 "nbformat_minor": 5
}

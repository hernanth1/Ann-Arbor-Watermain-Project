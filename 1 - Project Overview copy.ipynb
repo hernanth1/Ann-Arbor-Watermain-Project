{
 "cells": [
  {
   "cell_type": "markdown",
   "id": "59f4f443",
   "metadata": {},
   "source": [
    "# Problematic Situation"
   ]
  },
  {
   "cell_type": "markdown",
   "id": "f3f14b4c",
   "metadata": {},
   "source": [
    "The United States' aging and overused water main infrastructure is now starting to bear the consequences of frequent water main breaks. To address this issue locally, it's critical to investigate the condition of Ann Arbor's water main system and identify the best pipe materials for future water infrastructure development."
   ]
  },
  {
   "cell_type": "markdown",
   "id": "2726ea31",
   "metadata": {},
   "source": [
    "# Problem Diagnosis"
   ]
  },
  {
   "cell_type": "markdown",
   "id": "2fbf9b22",
   "metadata": {},
   "source": [
    "The problem is simple but crucial. Like most of the United States, Ann Arbor’s water main infrastructure is old and poorly maintained due to budget constraints. Adding to this challenge, Ann Arbor’s water infrastructure is patched together with nearly six different types of pipes, including cast iron, ductile iron, PVC, HDPE, cement, and even wood. Consequently, the city faces recurrent water main breaks, posing a significant risk to the community’s well-being.\n",
    "\n",
    "This is a critical issue that needs to be resolved as it contributes to water wastage and impacts the health, finances, and water accessibility of community members. In addition, every time a water main pipe bursts, it leaves Ann Arbor residents without water and at risk of contamination. Many times in the past, Ann Arbor has issued boil water advisories, the latest being in 2021 due to a water main break. Ann Arbor’s website states, “Advisories are issued when an event occurs that may cause the water distribution system to become contaminated, such as a loss of pressure from a water main break.”1 As seen by the Flint, MI, water crisis in 2014, contaminated water can be catastrophic for cities.\n",
    "\n",
    "As mentioned by Dave Wilborn, Water mains break due to multiple reasons, including: “cold temperatures, change in temperature, stress on pipes, soil corrosion, construction, heavy equipment on roads, and poor pipe material.”2 He also noted that “funding is a big challenge for the water system.” Most of the Ann Arbor water system was built before the 1980s with federal funds. As the Ann Arbor water infrastructure evolved, developers, tasked with selecting pipe materials often selected the “cheapest to operate,“3 and neglected the long-term maintenance costs associated with pipe materials. After development, watermains were turned over to Ann Arbor for day-to-day operations. Today, the city does not provide an adequate budget to maintain the water system. Without sufficient capital, the water department cannot provide preventative maintenance, leading to deterioration and water main breaks.\n",
    "\n",
    "With Ann Arbor’s limited water budget, it is important to identify what pipe material is best for maintaining and developing future water infrastructure so that we can have a reliable, safe, and cost-efficient water system in Ann Arbor."
   ]
  },
  {
   "cell_type": "markdown",
   "id": "50d4171c",
   "metadata": {},
   "source": [
    "# Research Questions"
   ]
  },
  {
   "attachments": {},
   "cell_type": "markdown",
   "id": "cd5eb513",
   "metadata": {},
   "source": [
    "RQ1. In the context of Ann Arbor's winter climate, which water main pipes demonstrate the highest resilience by experiencing the least number of breaks??\n",
    "\n",
    "RQ2. Is there a correlation between the choice of pipe material and the average lifespan before replacement in water main infrastructure, and how do variations in material impact longevity in Ann Arbor?\n",
    "\n",
    "RQ3. Which pipe materials demonstrate the highest cost efficiency and sustainability in Ann Arbor's water main infrastructure, considering factors such as initial costs, maintenance costs, and durability?"
   ]
  },
  {
   "cell_type": "markdown",
   "id": "e03f6c20",
   "metadata": {},
   "source": [
    "# Changes from Project Proposal"
   ]
  },
  {
   "attachments": {},
   "cell_type": "markdown",
   "id": "f41beae3-a7bb-4526-8b8d-dd0ff5be8680",
   "metadata": {},
   "source": [
    "After receiving feedback on my project proposal assignment, I decided to change my problem diagnosis and research questions. Specifically, in my problem diagnoses, I took out several statements related to the overall water system in the United States and instead provided more context directly relevant to Ann Arbor. I did this because my proposal feedback helped me realize that my problem diagnosis did not highlight problems within Ann Arbor but in the country as a whole. \n",
    "\n",
    "Furthermore, I replaced quoted content with information shared from our guest lectures to emphasize issues within Ann Arbor. Additionally, I realized that my whole project is about the best pipe materials for future water main development and failed to define what pipe materials Ann Arbor currently has in the ground. So, I clarified the types of pipe materials in use. \n",
    "\n",
    "Within the research questions, I decided to expand on all my questions as I recognized that my initial questions were too broad. While the core themes of the questions remained the same, the revisions introduced more details and provided more information on what I aim to accomplish within this project.\n",
    "\n",
    "Last, I added an addition dataset (all_watermain_attributes)to do a more in depth analysis of my research questions."
   ]
  },
  {
   "cell_type": "markdown",
   "id": "f1a7e65c-3a75-45eb-86bc-d2b34482608d",
   "metadata": {},
   "source": [
    "# Citations"
   ]
  },
  {
   "cell_type": "markdown",
   "id": "73fb13ef-f8ba-4485-a34d-b6f7649c9924",
   "metadata": {},
   "source": [
    "1 Boil water notifications, accessed October 27, 2023,\n",
    "https://www.a2gov.org/departments/water-treatment/about/Pages/Advisories-and-Notifications.aspx.\n",
    "\n",
    "2 Dave Wilburn, “Watermain Reporting System,” Ann Arbor Water Main Reporting System, September 19, 2023,\n",
    "https://drive.google.com/drive/folders/1DJxhHJT9PBjPx_18DX3GwZBNUgATTWuZ.\n",
    "\n",
    "3 Robert Czachorski, “Future Water Infrastructure,” Ann Arbor Water Infrastructure, September 23, 2023,\n",
    "https://docs.google.com/document/d/1eH7MbvjpFovqfhvm-4RWY--4GGi3nykA/edit."
   ]
  },
  {
   "cell_type": "markdown",
   "id": "a74b91e1",
   "metadata": {},
   "source": []
  }
 ],
 "metadata": {
  "kernelspec": {
   "display_name": "base",
   "language": "python",
   "name": "python3"
  },
  "language_info": {
   "codemirror_mode": {
    "name": "ipython",
    "version": 3
   },
   "file_extension": ".py",
   "mimetype": "text/x-python",
   "name": "python",
   "nbconvert_exporter": "python",
   "pygments_lexer": "ipython3",
   "version": "3.11.4 (main, Jul  5 2023, 09:00:44) [Clang 14.0.6 ]"
  },
  "vscode": {
   "interpreter": {
    "hash": "e0074302058a013f589444f875a5488f01ef0f50e4437d56a8002550daa07829"
   }
  }
 },
 "nbformat": 4,
 "nbformat_minor": 5
}
